{
 "cells": [
  {
   "cell_type": "code",
   "execution_count": 2,
   "metadata": {},
   "outputs": [],
   "source": [
    "# Artificial Intellegence HW1 \n",
    "# Jan 20, 2023\n",
    "# Booth 32200\n",
    "# Nic Marlton\n"
   ]
  },
  {
   "cell_type": "code",
   "execution_count": null,
   "metadata": {},
   "outputs": [],
   "source": [
    "# Dependencies\n",
    "import pandas as pd\n",
    "import os\n",
    "from shutil import copyfile"
   ]
  },
  {
   "cell_type": "code",
   "execution_count": null,
   "metadata": {},
   "outputs": [],
   "source": [
    "# Global varible for df\n",
    "df = pd.read_csv('./files_to_label.csv')\n",
    "df = df['filename']\n",
    "\n",
    "# Open all 200 files in order \n",
    "def copy_training_files(df):\n",
    "    \"\"\"\n",
    "    Copy relevant files from Roboflow download to directory based on files_to_label.csv\n",
    "\n",
    "    Input:\n",
    "        - file paths for current directory and target director\n",
    "        - files_to_label.csv\n",
    "\n",
    "    Output:\n",
    "        - Copies files to directory for labeling\n",
    "    \"\"\"\n",
    "    #\n",
    "    old_file_path = '...'\n",
    "    new_file_path = '...'\n",
    "    for i in range(200):\n",
    "        file = df.iloc[i]\n",
    "        \n",
    "        # \n",
    "        if os.path.isfile(old_file_path + 'test/' + file):\n",
    "            copyfile(old_file_path + 'test/' + file, os.path.join(new_file_path, file))\n",
    "        elif os.path.isfile(old_file_path + 'train/' + file):\n",
    "            copyfile(old_file_path + 'train/' + file, os.path.join(new_file_path, file))\n",
    "        elif os.path.isfile(old_file_path + 'valid/' + file):\n",
    "            copyfile(old_file_path + 'valid/' + file, os.path.join(new_file_path, file))\n",
    "        else:\n",
    "            print(file, \"could not be found\")\n",
    "\n",
    "copy_training_files()\n"
   ]
  },
  {
   "cell_type": "code",
   "execution_count": 23,
   "metadata": {},
   "outputs": [],
   "source": [
    "# Label data \n",
    "def person_in_the_middle(df):\n",
    "    \"\"\"        \n",
    "    Facilitates data labelling\n",
    "\n",
    "    Input: \n",
    "        - new_file_path: i.e. the folder where our sample of the data is stored\n",
    "\n",
    "    Output:\n",
    "        - Opens each of the 200 files, giving the person in the middle a chance\n",
    "        to label that file in the optimalScore column of labeled_files.csv\n",
    "    \"\"\"\n",
    "    new_file_path  = '...'\n",
    "    for i in range(200):\n",
    "        file = df.loc[i]\n",
    "        os.system('open ' + new_file_path + file)\n",
    "        # Prompt user for input to signal file is labeled\n",
    "        person_in_middle = input()\n",
    "\n",
    "person_in_the_middle(df)"
   ]
  },
  {
   "cell_type": "code",
   "execution_count": 11,
   "metadata": {},
   "outputs": [],
   "source": [
    "# Sort data based on labeled_files.csv\n",
    "def sort_training_files():\n",
    "    \"\"\" \n",
    "    Sort values to directory based on labeled_files.csv\n",
    "\n",
    "    Input:\n",
    "        - file paths for current directory and target director\n",
    "        - dataframe of labeled_files.csv\n",
    "\n",
    "    Output:\n",
    "        - Moves files to relevant directory\n",
    "    \"\"\"\n",
    "    # Store file paths as variables to move relevant files based on values in labeled_files.csv\n",
    "    old_file_path = '...'\n",
    "    new_file_path = '...'\n",
    "    labeled_files = pd.read_csv('labeled_files.csv')\n",
    "\n",
    "    # Copy files to relevant folder\n",
    "    for i in range(200):\n",
    "        crowded = labeled_files.iloc[i,3]\n",
    "        good = labeled_files.iloc[i,4]\n",
    "        train = labeled_files.iloc[i,5]\n",
    "        file_name = labeled_files.iloc[i,1]\n",
    "        \n",
    "        # Copy 90% of files to relevant folder\n",
    "        if crowded == 1 and good > 0 and train == 1:\n",
    "            copyfile(old_file_path + file_name, os.path.join(new_file_path, 'training_data/good_crowded/', file_name))\n",
    "        elif crowded == 0 and good > 0 and train == 1:\n",
    "            copyfile(old_file_path + file_name, os.path.join(new_file_path, 'training_data/good_not_crowded/', file_name))\n",
    "        elif good == 0 and train == 1:\n",
    "            copyfile(old_file_path + file_name, os.path.join(new_file_path, 'training_data/not_good/', file_name))\n",
    "        # Copy remaining 10% to holdback_data\n",
    "        elif train == 0:\n",
    "            copyfile(old_file_path + file_name, os.path.join(new_file_path, 'holdback_data/', file_name))\n",
    "        else:\n",
    "            print(file_name, \"could not be found\")\n",
    "\n",
    "sort_training_files()\n"
   ]
  }
 ],
 "metadata": {
  "kernelspec": {
   "display_name": "01_ts_code_directory-Xf6xDVFD",
   "language": "python",
   "name": "python3"
  },
  "language_info": {
   "codemirror_mode": {
    "name": "ipython",
    "version": 3
   },
   "file_extension": ".py",
   "mimetype": "text/x-python",
   "name": "python",
   "nbconvert_exporter": "python",
   "pygments_lexer": "ipython3",
   "version": "3.8.4 (default, Jul 14 2020, 02:58:48) \n[Clang 11.0.3 (clang-1103.0.32.62)]"
  },
  "orig_nbformat": 4,
  "vscode": {
   "interpreter": {
    "hash": "49e53e0ddad2980e35f979ab131222550b6caf82d4f4f17a9b066eafc1fafab1"
   }
  }
 },
 "nbformat": 4,
 "nbformat_minor": 2
}
